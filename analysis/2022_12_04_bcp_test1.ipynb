{
 "cells": [
  {
   "cell_type": "code",
   "execution_count": 1,
   "id": "5ad75b3d",
   "metadata": {},
   "outputs": [],
   "source": [
    "##Load all the required libraries...\n",
    "\n",
    "%load_ext autoreload\n",
    "%autoreload 2\n",
    "\n",
    "import matplotlib.pyplot as plt\n",
    "import numpy as np\n",
    "from scipy import signal\n",
    "from scipy.optimize import curve_fit\n",
    "import time\n",
    "import pandas as pd\n",
    "\n",
    "from tools.base import *\n",
    "from tools.ddmtd import ddmtd\n",
    "from time import sleep"
   ]
  },
  {
   "cell_type": "code",
   "execution_count": 2,
   "id": "09dc5306",
   "metadata": {},
   "outputs": [],
   "source": [
    "server=\"pi@192.168.222.5\" # your ip address might be different\n",
    "\n",
    "## IMPORTANT##\n",
    "## make sure you have your ssh keys set-up properly\n",
    "## END IMPORTANT##\n",
    "## Contact rohith.saradhy@cern.ch for password to the RPi"
   ]
  },
  {
   "cell_type": "code",
   "execution_count": 4,
   "id": "5c43ee49",
   "metadata": {},
   "outputs": [],
   "source": [
    "#Copy Flash_Firmware scripts to the Raspberry Pi.\n",
    "!rsync -ra ../rpi_side/Flash_Firmware {server}:"
   ]
  },
  {
   "cell_type": "code",
   "execution_count": 6,
   "id": "d8ae5184",
   "metadata": {},
   "outputs": [
    {
     "name": "stdout",
     "output_type": "stream",
     "text": [
      "2022_12_03_v2_031.hex                         100% 3324KB  23.9MB/s   00:00    \n",
      "We are in dir::/home/pi/Flash_Firmware\n",
      "\n",
      "\tFLASH MEMORY WRITE\n",
      "\n",
      "Current Chip ID: 010219\n",
      "\n",
      "Reading hex file:\t Success\n",
      "Number of Bytes: \t 1701924\n",
      "Erasing sectors: \t Success \n",
      "Flashing memory: \t Success \n",
      "\n",
      "The flash memory was successfully written.\n"
     ]
    }
   ],
   "source": [
    "## Flash The Firmware to the Nexys Board flash memory\n",
    "## Physically restart the Nexys Board after the flash. Or click the \"PROG\" button on Nexys Video Board.\n",
    "\n",
    "!../rpi_side/Flash_Nex.sh ../rpi_side/HEX_Files/2022_12_03_v2_031.hex {server}   # clocked at neg edge\n",
    "\n",
    "#If \"chip ID incorrect\" error occurs, repeat the process\n",
    "\n",
    "# Successfull Flashing would look similar to the following:\n",
    "# We are in dir::/home/pi/Flash_Firmware\n",
    "\n",
    "# \tFLASH MEMORY WRITE\n",
    "\n",
    "# Current Chip ID: 010219\n",
    "\n",
    "# Reading hex file:\t Success\n",
    "# Number of Bytes: \t 2161808\n",
    "# Erasing sectors: \t Success \n",
    "# Flashing memory: \t Success \n",
    "\n",
    "\n",
    "# The flash memory was successfully written."
   ]
  },
  {
   "cell_type": "code",
   "execution_count": 8,
   "id": "df1c4e38",
   "metadata": {},
   "outputs": [
    {
     "name": "stdout",
     "output_type": "stream",
     "text": [
      "Scipt Location::/home/rsaradhy/work/nexys_ddmtd_github/rpi_side\n",
      "Scipt Location::/home/rsaradhy/work/nexys_ddmtd_github/rpi_side\n",
      "RESET DONE \n",
      "HEATING 1 STATUS: 0\n",
      "HEATING 2 STATUS: 0\n",
      "Firmware Version: 2.031 \n"
     ]
    }
   ],
   "source": [
    "# restart FPGA & check firmware\n",
    "sleep(1)\n",
    "!../rpi_side/runAtNex.sh ../restart_FPGA.sh 0 0 {server}\n",
    "sleep(1)\n",
    "#Check Version Number\n",
    "!rsync -ra ../rpi_side/Flash_Firmware {server}:\n",
    "!../rpi_side/runAtNex.sh bin/check_firmware.exe 0 1 {server} #flash the configuration file\n",
    "# Should return: \n",
    "# FirmwareVersion::2.030 at least"
   ]
  },
  {
   "cell_type": "code",
   "execution_count": 9,
   "id": "b4985a63",
   "metadata": {},
   "outputs": [],
   "source": [
    "# Setting all the variables...\n",
    "N=10000  #Setting the DDMTD N\n",
    "freq=\"40.079\"#in MHz #Setting the input clock frequency\n",
    "pll_config_folder=\"../rpi_side/PLL_Conf/bcp_configs/\"\n",
    "fig_save_folder = f\"./bcp_test/figures/N{N}/\"\n",
    "data_save_folder = f\"./bcp_test/data/N{N}/\"\n",
    "!mkdir -p {fig_save_folder} #create those directories\n",
    "!mkdir -p {data_save_folder} #create those directories\n",
    "run_number = 1\n",
    "run_name   = f\"bcp_testRun{run_number}\""
   ]
  },
  {
   "cell_type": "markdown",
   "id": "25f2460b",
   "metadata": {},
   "source": [
    "## PLL Configs"
   ]
  },
  {
   "cell_type": "code",
   "execution_count": 10,
   "id": "047e1430",
   "metadata": {},
   "outputs": [
    {
     "name": "stdout",
     "output_type": "stream",
     "text": [
      "bcp_nexys_1000001_40.079MHz.h  bcp_nexys_100001_40.079MHz.h\r\n",
      "bcp_nexys_10001_40.079MHz.h    bcp_nexys_conf.h\r\n"
     ]
    }
   ],
   "source": [
    "## Availble Configurations...\n",
    "!ls -t {pll_config_folder}"
   ]
  },
  {
   "cell_type": "code",
   "execution_count": 11,
   "id": "4b11a541",
   "metadata": {},
   "outputs": [
    {
     "name": "stdout",
     "output_type": "stream",
     "text": [
      "Using PLL Config: \n",
      "  ../rpi_side/PLL_Conf/bcp_configs/bcp_nexys_10001_40.079MHz.h\n",
      "\n",
      "\n",
      "\n",
      "bcp_nexys_10001_40.079MHz.h                   100%   45KB  12.6MB/s   00:00    \n",
      "Scipt Location::/home/rsaradhy/work/nexys_ddmtd_github/rpi_side\n",
      "Done Compiling data_acq\n",
      "Done Compiling PLL\n",
      "Done Compiling CheckFirmware\n",
      "address = 0x0514, value = 0x01 ; Value returned = 0xff   \n",
      "address = 0x001c, value = 0x01 ; Value returned = 0xff   \n"
     ]
    }
   ],
   "source": [
    "## Configuring the PLL. This needs to be done everytime the board is restarted/ loses power.\n",
    "##Selecting the Register File##\n",
    "\n",
    "pll_config = f\"{pll_config_folder}bcp_nexys_{N+1}_{freq}MHz.h\" #Selecting the configuration according to N, freq\n",
    "print(\"Using PLL Config: \\n \",pll_config)\n",
    "print(\"\\n\\n\")\n",
    "!scp {pll_config} {server}:Flash_Firmware/include/Si5344_REG.h #Copy the config to the RPi as Si5344\n",
    "## Compile and Running configuration script\n",
    "!../rpi_side/runAtNex.sh bin/ddmtd_pll.exe 1 1 {server} #flash the configuration file\n",
    "#The output should look like the following::\n",
    "# Done Compiling MEM\n",
    "# Done Compiling PLL\n",
    "# address = 0x0514, value = 0x01 ; Value returned = 0x00   \n",
    "# address = 0x001c, value = 0x01 ; Value returned = 0x00 \n",
    "\n",
    "# After configuration, D304 will blink every 500 cycles of the beat clock"
   ]
  },
  {
   "cell_type": "markdown",
   "id": "d2e92994",
   "metadata": {},
   "source": [
    "## Data Acquisition"
   ]
  },
  {
   "cell_type": "code",
   "execution_count": null,
   "id": "a293c28e",
   "metadata": {},
   "outputs": [
    {
     "name": "stdout",
     "output_type": "stream",
     "text": [
      "Scipt Location::/home/rsaradhy/work/nexys_ddmtd_github/rpi_side\n",
      "Done Compiling data_acq\n",
      "Done Compiling PLL\n",
      "Done Compiling CheckFirmware\n"
     ]
    }
   ],
   "source": [
    "!../rpi_side/runAtNex.sh bin/data_acq.exe 1 2 {server}\n",
    "# Copy over the files...\n",
    "!scp {server}:Flash_Firmware/data/ddmtd1.txt {data_save_folder+run_name}ddmtd1.txt\n",
    "!scp {server}:Flash_Firmware/data/ddmtd2.txt {data_save_folder+run_name}ddmtd2.txt "
   ]
  },
  {
   "cell_type": "code",
   "execution_count": null,
   "id": "761894dc",
   "metadata": {},
   "outputs": [],
   "source": []
  }
 ],
 "metadata": {
  "kernelspec": {
   "display_name": "Python 3 (ipykernel)",
   "language": "python",
   "name": "python3"
  },
  "language_info": {
   "codemirror_mode": {
    "name": "ipython",
    "version": 3
   },
   "file_extension": ".py",
   "mimetype": "text/x-python",
   "name": "python",
   "nbconvert_exporter": "python",
   "pygments_lexer": "ipython3",
   "version": "3.8.15"
  }
 },
 "nbformat": 4,
 "nbformat_minor": 5
}
